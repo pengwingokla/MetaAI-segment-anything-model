{
  "cells": [
    {
      "cell_type": "markdown",
      "metadata": {
        "id": "R7kkQEObQ0V3"
      },
      "source": [
        "# Assignment 1  \n",
        "\n",
        "For the exercises below you can use the numpy and scipy libraries."
      ]
    },
    {
      "cell_type": "markdown",
      "metadata": {
        "id": "LKvTyeeiQ0WC"
      },
      "source": [
        "### Problem 3: Stochastic Gradient Descent (30 points)\n",
        "\n",
        "In class we covered the baseline stochastic gradient descent.  Using the linear regression example from the class notes, develop from scratch the baseline SGD algorithm. :\n",
        "\n",
        "Clearly state the hyperparameters you used and present the loss vs epoch plot that demonstrates the convergence of the algorithm."
      ]
    },
    {
      "cell_type": "code",
      "execution_count": null,
      "metadata": {
        "id": "2gkMBZLHQ0WD"
      },
      "outputs": [],
      "source": [
        "# Insert your answer here and fee free to add markdown cells as needed"
      ]
    },
    {
      "cell_type": "markdown",
      "metadata": {
        "id": "Fe4bl6kQQ0WD"
      },
      "source": [
        "### Problem 4: SGD Enhancements (30 points)\n",
        "\n",
        "In this exercise you will implement some enhancements for the linear regression problem from scratch that can improve the convergence speed of the algorithm.\n",
        "\n",
        "1. Momentum (15 points)\n",
        "2. Adam (15 points)\n",
        "\n",
        "Clearly state the hyperparameters you used and present the loss vs epoch plot that demonstrates the convergence of each algorithm and compared to the baseline SGD algorithm. You can include all plots in the same figure."
      ]
    },
    {
      "cell_type": "code",
      "execution_count": null,
      "metadata": {
        "id": "lTt5md5LQ0WE"
      },
      "outputs": [],
      "source": [
        "# Insert your answer here and fee free to add markdown cells as needed"
      ]
    }
  ],
  "metadata": {
    "colab": {
      "provenance": []
    },
    "kernelspec": {
      "display_name": "Python 3",
      "language": "python",
      "name": "python3"
    },
    "language_info": {
      "codemirror_mode": {
        "name": "ipython",
        "version": 3
      },
      "file_extension": ".py",
      "mimetype": "text/x-python",
      "name": "python",
      "nbconvert_exporter": "python",
      "pygments_lexer": "ipython3",
      "version": "3.12.1"
    }
  },
  "nbformat": 4,
  "nbformat_minor": 0
}
