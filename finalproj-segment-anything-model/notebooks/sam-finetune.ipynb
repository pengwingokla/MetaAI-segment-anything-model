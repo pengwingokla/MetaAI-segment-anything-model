{
 "cells": [
  {
   "cell_type": "code",
   "execution_count": 1,
   "metadata": {},
   "outputs": [
    {
     "ename": "ModuleNotFoundError",
     "evalue": "No module named 'datasets'",
     "output_type": "error",
     "traceback": [
      "\u001b[0;31m---------------------------------------------------------------------------\u001b[0m",
      "\u001b[0;31mModuleNotFoundError\u001b[0m                       Traceback (most recent call last)",
      "Cell \u001b[0;32mIn[1], line 1\u001b[0m\n\u001b[0;32m----> 1\u001b[0m \u001b[38;5;28;01mfrom\u001b[39;00m \u001b[38;5;21;01mdatasets\u001b[39;00m \u001b[38;5;28;01mimport\u001b[39;00m load_dataset, load_from_disk\n",
      "\u001b[0;31mModuleNotFoundError\u001b[0m: No module named 'datasets'"
     ]
    }
   ],
   "source": [
    "from datasets import load_dataset, load_from_disk"
   ]
  },
  {
   "cell_type": "code",
   "execution_count": 12,
   "metadata": {},
   "outputs": [
    {
     "data": {
      "application/vnd.jupyter.widget-view+json": {
       "model_id": "c6accbb700114553afa444aae5d7fa2e",
       "version_major": 2,
       "version_minor": 0
      },
      "text/plain": [
       "Downloading readme:   0%|          | 0.00/917 [00:00<?, ?B/s]"
      ]
     },
     "metadata": {},
     "output_type": "display_data"
    },
    {
     "name": "stderr",
     "output_type": "stream",
     "text": [
      "Downloading data: 100%|██████████| 393M/393M [00:23<00:00, 16.4MB/s] \n",
      "Downloading data: 100%|██████████| 417M/417M [00:22<00:00, 18.2MB/s] \n",
      "Downloading data: 100%|██████████| 442M/442M [00:27<00:00, 15.9MB/s] \n",
      "Downloading data: 100%|██████████| 421M/421M [00:21<00:00, 20.0MB/s] \n",
      "Downloading data: 100%|██████████| 420M/420M [00:21<00:00, 19.7MB/s] \n",
      "Downloading data: 100%|██████████| 407M/407M [00:22<00:00, 18.5MB/s] \n",
      "Downloading data: 100%|██████████| 271M/271M [00:23<00:00, 11.4MB/s] \n"
     ]
    },
    {
     "data": {
      "application/vnd.jupyter.widget-view+json": {
       "model_id": "f0e14b9d98ee41949a311451dff54f1e",
       "version_major": 2,
       "version_minor": 0
      },
      "text/plain": [
       "Generating train split:   0%|          | 0/180000 [00:00<?, ? examples/s]"
      ]
     },
     "metadata": {},
     "output_type": "display_data"
    },
    {
     "data": {
      "application/vnd.jupyter.widget-view+json": {
       "model_id": "31e9636059184b10827e2dd1eed79879",
       "version_major": 2,
       "version_minor": 0
      },
      "text/plain": [
       "Generating val split:   0%|          | 0/20000 [00:00<?, ? examples/s]"
      ]
     },
     "metadata": {},
     "output_type": "display_data"
    }
   ],
   "source": [
    "mydataset = load_dataset(\"back2classroom/sidewalks\")"
   ]
  },
  {
   "cell_type": "code",
   "execution_count": 13,
   "metadata": {},
   "outputs": [
    {
     "data": {
      "application/vnd.jupyter.widget-view+json": {
       "model_id": "e00fe9b3cb7446848a9cf2c8bb6fb6fa",
       "version_major": 2,
       "version_minor": 0
      },
      "text/plain": [
       "Saving the dataset (0/6 shards):   0%|          | 0/180000 [00:00<?, ? examples/s]"
      ]
     },
     "metadata": {},
     "output_type": "display_data"
    },
    {
     "data": {
      "application/vnd.jupyter.widget-view+json": {
       "model_id": "b7fc79bb1f22491491367b81616bf5f5",
       "version_major": 2,
       "version_minor": 0
      },
      "text/plain": [
       "Saving the dataset (0/1 shards):   0%|          | 0/20000 [00:00<?, ? examples/s]"
      ]
     },
     "metadata": {},
     "output_type": "display_data"
    }
   ],
   "source": [
    "mydataset.save_to_disk(\"images-tiff\")"
   ]
  },
  {
   "cell_type": "code",
   "execution_count": 18,
   "metadata": {},
   "outputs": [
    {
     "data": {
      "text/plain": [
       "DatasetDict({\n",
       "    train: Dataset({\n",
       "        features: ['filename', 'tif', 'tfw'],\n",
       "        num_rows: 180000\n",
       "    })\n",
       "    val: Dataset({\n",
       "        features: ['filename', 'tif', 'tfw'],\n",
       "        num_rows: 20000\n",
       "    })\n",
       "})"
      ]
     },
     "execution_count": 18,
     "metadata": {},
     "output_type": "execute_result"
    }
   ],
   "source": [
    "mydataset_reloaded = load_from_disk(\"images-tiff\")\n",
    "mydataset_reloaded"
   ]
  },
  {
   "cell_type": "code",
   "execution_count": 1,
   "metadata": {},
   "outputs": [],
   "source": [
    "import numpy as np\n",
    "import matplotlib.pyplot as plt\n",
    "import tifffile\n",
    "import os\n",
    "import leafmap\n",
    "from samgeo import SamGeo, tms_to_geotiff, get_basemaps\n",
    "from patchify import patchify  #Only to handle large images\n",
    "import random\n",
    "from scipy import ndimage"
   ]
  },
  {
   "cell_type": "code",
   "execution_count": 4,
   "metadata": {},
   "outputs": [
    {
     "name": "stdout",
     "output_type": "stream",
     "text": [
      "(1116, 1790, 3)\n"
     ]
    }
   ],
   "source": [
    "# Load tiff stack images and masks\n",
    "m = leafmap.Map(center=[40.7434679,-74.175889], zoom = 19) # NJIT\n",
    "m.add_basemap(\"SATELLITE\")\n",
    "\n",
    "image = \"images-tiff/satellite.tif\"\n",
    "m.user_roi_bounds()\n",
    "if m.user_roi_bounds() is not None:\n",
    "    bbox = m.user_roi_bounds()\n",
    "else:\n",
    "    bbox = [-95.3704, 29.6762, -95.368, 29.6775]\n",
    "# tms_to_geotiff(output=image, bbox=bbox, zoom=20, source=\"Satellite\", overwrite=True)\n",
    "\n",
    "#165 large images as tiff image stack\n",
    "large_images = tifffile.imread(image)\n",
    "print(large_images.shape)\n"
   ]
  },
  {
   "cell_type": "code",
   "execution_count": 9,
   "metadata": {},
   "outputs": [
    {
     "ename": "ImportError",
     "evalue": "localtileserver is not installed. Please install it before proceeding. https://github.com/banesullivan/localtileserver",
     "output_type": "error",
     "traceback": [
      "\u001b[1;31m---------------------------------------------------------------------------\u001b[0m",
      "\u001b[1;31mImportError\u001b[0m                               Traceback (most recent call last)",
      "File \u001b[1;32mc:\\Users\\thaou\\anaconda3\\envs\\sam\\lib\\site-packages\\leafmap\\common.py:160\u001b[0m, in \u001b[0;36mcheck_package\u001b[1;34m(name, URL)\u001b[0m\n\u001b[0;32m    159\u001b[0m \u001b[38;5;28;01mtry\u001b[39;00m:\n\u001b[1;32m--> 160\u001b[0m     \u001b[38;5;28;43m__import__\u001b[39;49m\u001b[43m(\u001b[49m\u001b[43mname\u001b[49m\u001b[38;5;241;43m.\u001b[39;49m\u001b[43mlower\u001b[49m\u001b[43m(\u001b[49m\u001b[43m)\u001b[49m\u001b[43m)\u001b[49m\n\u001b[0;32m    161\u001b[0m \u001b[38;5;28;01mexcept\u001b[39;00m \u001b[38;5;167;01mException\u001b[39;00m:\n",
      "File \u001b[1;32mc:\\Users\\thaou\\anaconda3\\envs\\sam\\lib\\site-packages\\localtileserver\\__init__.py:3\u001b[0m\n\u001b[0;32m      2\u001b[0m \u001b[38;5;28;01mfrom\u001b[39;00m \u001b[38;5;21;01mlocaltileserver\u001b[39;00m\u001b[38;5;21;01m.\u001b[39;00m\u001b[38;5;21;01m_version\u001b[39;00m \u001b[38;5;28;01mimport\u001b[39;00m __version__\n\u001b[1;32m----> 3\u001b[0m \u001b[38;5;28;01mfrom\u001b[39;00m \u001b[38;5;21;01mlocaltileserver\u001b[39;00m\u001b[38;5;21;01m.\u001b[39;00m\u001b[38;5;21;01mclient\u001b[39;00m \u001b[38;5;28;01mimport\u001b[39;00m TileClient, get_or_create_tile_client\n\u001b[0;32m      4\u001b[0m \u001b[38;5;28;01mfrom\u001b[39;00m \u001b[38;5;21;01mlocaltileserver\u001b[39;00m\u001b[38;5;21;01m.\u001b[39;00m\u001b[38;5;21;01mhelpers\u001b[39;00m \u001b[38;5;28;01mimport\u001b[39;00m hillshade, parse_shapely, polygon_to_geojson, save_new_raster\n",
      "File \u001b[1;32mc:\\Users\\thaou\\anaconda3\\envs\\sam\\lib\\site-packages\\localtileserver\\client.py:8\u001b[0m\n\u001b[0;32m      7\u001b[0m \u001b[38;5;28;01mimport\u001b[39;00m \u001b[38;5;21;01mrequests\u001b[39;00m\n\u001b[1;32m----> 8\u001b[0m \u001b[38;5;28;01mfrom\u001b[39;00m \u001b[38;5;21;01mrio_tiler\u001b[39;00m\u001b[38;5;21;01m.\u001b[39;00m\u001b[38;5;21;01mio\u001b[39;00m \u001b[38;5;28;01mimport\u001b[39;00m Reader\n\u001b[0;32m     10\u001b[0m \u001b[38;5;28;01mtry\u001b[39;00m:\n",
      "File \u001b[1;32mc:\\Users\\thaou\\anaconda3\\envs\\sam\\lib\\site-packages\\rio_tiler\\__init__.py:5\u001b[0m\n\u001b[0;32m      3\u001b[0m __version__ \u001b[38;5;241m=\u001b[39m \u001b[38;5;124m\"\u001b[39m\u001b[38;5;124m6.4.6\u001b[39m\u001b[38;5;124m\"\u001b[39m\n\u001b[1;32m----> 5\u001b[0m \u001b[38;5;28;01mfrom\u001b[39;00m \u001b[38;5;21;01m.\u001b[39;00m \u001b[38;5;28;01mimport\u001b[39;00m (  \u001b[38;5;66;03m# noqa\u001b[39;00m\n\u001b[0;32m      6\u001b[0m     colormap,\n\u001b[0;32m      7\u001b[0m     constants,\n\u001b[0;32m      8\u001b[0m     errors,\n\u001b[0;32m      9\u001b[0m     expression,\n\u001b[0;32m     10\u001b[0m     io,\n\u001b[0;32m     11\u001b[0m     mosaic,\n\u001b[0;32m     12\u001b[0m     profiles,\n\u001b[0;32m     13\u001b[0m     reader,\n\u001b[0;32m     14\u001b[0m     tasks,\n\u001b[0;32m     15\u001b[0m     utils,\n\u001b[0;32m     16\u001b[0m )\n",
      "File \u001b[1;32mc:\\Users\\thaou\\anaconda3\\envs\\sam\\lib\\site-packages\\rio_tiler\\constants.py:6\u001b[0m\n\u001b[0;32m      4\u001b[0m \u001b[38;5;28;01mimport\u001b[39;00m \u001b[38;5;21;01mos\u001b[39;00m\n\u001b[1;32m----> 6\u001b[0m \u001b[38;5;28;01mimport\u001b[39;00m \u001b[38;5;21;01mmorecantile\u001b[39;00m\n\u001b[0;32m      7\u001b[0m \u001b[38;5;28;01mfrom\u001b[39;00m \u001b[38;5;21;01mrasterio\u001b[39;00m\u001b[38;5;21;01m.\u001b[39;00m\u001b[38;5;21;01mcrs\u001b[39;00m \u001b[38;5;28;01mimport\u001b[39;00m CRS\n",
      "File \u001b[1;32mc:\\Users\\thaou\\anaconda3\\envs\\sam\\lib\\site-packages\\morecantile\\__init__.py:14\u001b[0m\n\u001b[0;32m     13\u001b[0m \u001b[38;5;28;01mfrom\u001b[39;00m \u001b[38;5;21;01m.\u001b[39;00m\u001b[38;5;21;01mcommons\u001b[39;00m \u001b[38;5;28;01mimport\u001b[39;00m BoundingBox, Coords, Tile  \u001b[38;5;66;03m# noqa\u001b[39;00m\n\u001b[1;32m---> 14\u001b[0m \u001b[38;5;28;01mfrom\u001b[39;00m \u001b[38;5;21;01m.\u001b[39;00m\u001b[38;5;21;01mdefaults\u001b[39;00m \u001b[38;5;28;01mimport\u001b[39;00m TileMatrixSets, tms  \u001b[38;5;66;03m# noqa\u001b[39;00m\n\u001b[0;32m     15\u001b[0m \u001b[38;5;28;01mfrom\u001b[39;00m \u001b[38;5;21;01m.\u001b[39;00m\u001b[38;5;21;01mmodels\u001b[39;00m \u001b[38;5;28;01mimport\u001b[39;00m TileMatrixSet  \u001b[38;5;66;03m# noqa\u001b[39;00m\n",
      "File \u001b[1;32mc:\\Users\\thaou\\anaconda3\\envs\\sam\\lib\\site-packages\\morecantile\\defaults.py:11\u001b[0m\n\u001b[0;32m     10\u001b[0m \u001b[38;5;28;01mfrom\u001b[39;00m \u001b[38;5;21;01mmorecantile\u001b[39;00m\u001b[38;5;21;01m.\u001b[39;00m\u001b[38;5;21;01merrors\u001b[39;00m \u001b[38;5;28;01mimport\u001b[39;00m InvalidIdentifier\n\u001b[1;32m---> 11\u001b[0m \u001b[38;5;28;01mfrom\u001b[39;00m \u001b[38;5;21;01mmorecantile\u001b[39;00m\u001b[38;5;21;01m.\u001b[39;00m\u001b[38;5;21;01mmodels\u001b[39;00m \u001b[38;5;28;01mimport\u001b[39;00m TileMatrixSet\n\u001b[0;32m     13\u001b[0m morecantile_tms_dir \u001b[38;5;241m=\u001b[39m pathlib\u001b[38;5;241m.\u001b[39mPath(\u001b[38;5;18m__file__\u001b[39m)\u001b[38;5;241m.\u001b[39mparent\u001b[38;5;241m.\u001b[39mjoinpath(\u001b[38;5;124m\"\u001b[39m\u001b[38;5;124mdata\u001b[39m\u001b[38;5;124m\"\u001b[39m)\n",
      "File \u001b[1;32mc:\\Users\\thaou\\anaconda3\\envs\\sam\\lib\\site-packages\\morecantile\\models.py:10\u001b[0m\n\u001b[0;32m      9\u001b[0m \u001b[38;5;28;01mimport\u001b[39;00m \u001b[38;5;21;01mpyproj\u001b[39;00m\n\u001b[1;32m---> 10\u001b[0m \u001b[38;5;28;01mfrom\u001b[39;00m \u001b[38;5;21;01mpydantic\u001b[39;00m \u001b[38;5;28;01mimport\u001b[39;00m (\n\u001b[0;32m     11\u001b[0m     AnyHttpUrl,\n\u001b[0;32m     12\u001b[0m     AnyUrl,\n\u001b[0;32m     13\u001b[0m     BaseModel,\n\u001b[0;32m     14\u001b[0m     Field,\n\u001b[0;32m     15\u001b[0m     PrivateAttr,\n\u001b[0;32m     16\u001b[0m     RootModel,\n\u001b[0;32m     17\u001b[0m     field_validator,\n\u001b[0;32m     18\u001b[0m     model_validator,\n\u001b[0;32m     19\u001b[0m )\n\u001b[0;32m     20\u001b[0m \u001b[38;5;28;01mfrom\u001b[39;00m \u001b[38;5;21;01mpyproj\u001b[39;00m\u001b[38;5;21;01m.\u001b[39;00m\u001b[38;5;21;01mexceptions\u001b[39;00m \u001b[38;5;28;01mimport\u001b[39;00m CRSError, ProjError\n",
      "\u001b[1;31mImportError\u001b[0m: cannot import name 'RootModel' from 'pydantic' (c:\\Users\\thaou\\anaconda3\\envs\\sam\\lib\\site-packages\\pydantic\\__init__.cp39-win_amd64.pyd)",
      "\nDuring handling of the above exception, another exception occurred:\n",
      "\u001b[1;31mImportError\u001b[0m                               Traceback (most recent call last)",
      "Cell \u001b[1;32mIn[9], line 3\u001b[0m\n\u001b[0;32m      1\u001b[0m \u001b[38;5;66;03m# Display the downloaded image on the map.\u001b[39;00m\n\u001b[0;32m      2\u001b[0m m\u001b[38;5;241m.\u001b[39mlayers[\u001b[38;5;241m-\u001b[39m\u001b[38;5;241m1\u001b[39m]\u001b[38;5;241m.\u001b[39mvisible \u001b[38;5;241m=\u001b[39m \u001b[38;5;28;01mFalse\u001b[39;00m  \u001b[38;5;66;03m# turn off the basemap\u001b[39;00m\n\u001b[1;32m----> 3\u001b[0m \u001b[43mm\u001b[49m\u001b[38;5;241;43m.\u001b[39;49m\u001b[43madd_raster\u001b[49m\u001b[43m(\u001b[49m\u001b[43mimage\u001b[49m\u001b[43m,\u001b[49m\u001b[43m \u001b[49m\u001b[43mlayer_name\u001b[49m\u001b[38;5;241;43m=\u001b[39;49m\u001b[38;5;124;43m\"\u001b[39;49m\u001b[38;5;124;43mImage\u001b[39;49m\u001b[38;5;124;43m\"\u001b[39;49m\u001b[43m)\u001b[49m\n\u001b[0;32m      4\u001b[0m m\n",
      "File \u001b[1;32mc:\\Users\\thaou\\anaconda3\\envs\\sam\\lib\\site-packages\\leafmap\\leafmap.py:2255\u001b[0m, in \u001b[0;36mMap.add_raster\u001b[1;34m(self, source, indexes, colormap, vmin, vmax, nodata, attribution, layer_name, zoom_to_layer, visible, array_args, **kwargs)\u001b[0m\n\u001b[0;32m   2252\u001b[0m \u001b[38;5;28;01mif\u001b[39;00m \u001b[38;5;28misinstance\u001b[39m(source, np\u001b[38;5;241m.\u001b[39mndarray) \u001b[38;5;129;01mor\u001b[39;00m \u001b[38;5;28misinstance\u001b[39m(source, xr\u001b[38;5;241m.\u001b[39mDataArray):\n\u001b[0;32m   2253\u001b[0m     source \u001b[38;5;241m=\u001b[39m array_to_image(source, \u001b[38;5;241m*\u001b[39m\u001b[38;5;241m*\u001b[39marray_args)\n\u001b[1;32m-> 2255\u001b[0m tile_layer, tile_client \u001b[38;5;241m=\u001b[39m get_local_tile_layer(\n\u001b[0;32m   2256\u001b[0m     source,\n\u001b[0;32m   2257\u001b[0m     indexes\u001b[38;5;241m=\u001b[39mindexes,\n\u001b[0;32m   2258\u001b[0m     colormap\u001b[38;5;241m=\u001b[39mcolormap,\n\u001b[0;32m   2259\u001b[0m     vmin\u001b[38;5;241m=\u001b[39mvmin,\n\u001b[0;32m   2260\u001b[0m     vmax\u001b[38;5;241m=\u001b[39mvmax,\n\u001b[0;32m   2261\u001b[0m     nodata\u001b[38;5;241m=\u001b[39mnodata,\n\u001b[0;32m   2262\u001b[0m     attribution\u001b[38;5;241m=\u001b[39mattribution,\n\u001b[0;32m   2263\u001b[0m     layer_name\u001b[38;5;241m=\u001b[39mlayer_name,\n\u001b[0;32m   2264\u001b[0m     return_client\u001b[38;5;241m=\u001b[39m\u001b[38;5;28;01mTrue\u001b[39;00m,\n\u001b[0;32m   2265\u001b[0m     \u001b[38;5;241m*\u001b[39m\u001b[38;5;241m*\u001b[39mkwargs,\n\u001b[0;32m   2266\u001b[0m )\n\u001b[0;32m   2267\u001b[0m tile_layer\u001b[38;5;241m.\u001b[39mvisible \u001b[38;5;241m=\u001b[39m visible\n\u001b[0;32m   2269\u001b[0m \u001b[38;5;28mself\u001b[39m\u001b[38;5;241m.\u001b[39madd(tile_layer)\n",
      "File \u001b[1;32mc:\\Users\\thaou\\anaconda3\\envs\\sam\\lib\\site-packages\\leafmap\\common.py:2841\u001b[0m, in \u001b[0;36mget_local_tile_layer\u001b[1;34m(source, port, debug, indexes, colormap, vmin, vmax, nodata, attribution, tile_format, layer_name, return_client, quiet, **kwargs)\u001b[0m\n\u001b[0;32m   2814\u001b[0m \u001b[38;5;250m\u001b[39m\u001b[38;5;124;03m\"\"\"Generate an ipyleaflet/folium TileLayer from a local raster dataset or remote Cloud Optimized GeoTIFF (COG).\u001b[39;00m\n\u001b[0;32m   2815\u001b[0m \u001b[38;5;124;03m    If you are using this function in JupyterHub on a remote server and the raster does not render properly, try\u001b[39;00m\n\u001b[0;32m   2816\u001b[0m \u001b[38;5;124;03m    running the following two lines before calling this function:\u001b[39;00m\n\u001b[1;32m   (...)\u001b[0m\n\u001b[0;32m   2837\u001b[0m \u001b[38;5;124;03m    ipyleaflet.TileLayer | folium.TileLayer: An ipyleaflet.TileLayer or folium.TileLayer.\u001b[39;00m\n\u001b[0;32m   2838\u001b[0m \u001b[38;5;124;03m\"\"\"\u001b[39;00m\n\u001b[0;32m   2839\u001b[0m \u001b[38;5;28;01mimport\u001b[39;00m \u001b[38;5;21;01mrasterio\u001b[39;00m\n\u001b[1;32m-> 2841\u001b[0m \u001b[43mcheck_package\u001b[49m\u001b[43m(\u001b[49m\n\u001b[0;32m   2842\u001b[0m \u001b[43m    \u001b[49m\u001b[38;5;124;43m\"\u001b[39;49m\u001b[38;5;124;43mlocaltileserver\u001b[39;49m\u001b[38;5;124;43m\"\u001b[39;49m\u001b[43m,\u001b[49m\u001b[43m \u001b[49m\u001b[43mURL\u001b[49m\u001b[38;5;241;43m=\u001b[39;49m\u001b[38;5;124;43m\"\u001b[39;49m\u001b[38;5;124;43mhttps://github.com/banesullivan/localtileserver\u001b[39;49m\u001b[38;5;124;43m\"\u001b[39;49m\n\u001b[0;32m   2843\u001b[0m \u001b[43m\u001b[49m\u001b[43m)\u001b[49m\n\u001b[0;32m   2845\u001b[0m \u001b[38;5;66;03m# Handle legacy localtileserver kwargs\u001b[39;00m\n\u001b[0;32m   2846\u001b[0m \u001b[38;5;28;01mif\u001b[39;00m \u001b[38;5;124m\"\u001b[39m\u001b[38;5;124mcmap\u001b[39m\u001b[38;5;124m\"\u001b[39m \u001b[38;5;129;01min\u001b[39;00m kwargs:\n",
      "File \u001b[1;32mc:\\Users\\thaou\\anaconda3\\envs\\sam\\lib\\site-packages\\leafmap\\common.py:162\u001b[0m, in \u001b[0;36mcheck_package\u001b[1;34m(name, URL)\u001b[0m\n\u001b[0;32m    160\u001b[0m     \u001b[38;5;28m__import__\u001b[39m(name\u001b[38;5;241m.\u001b[39mlower())\n\u001b[0;32m    161\u001b[0m \u001b[38;5;28;01mexcept\u001b[39;00m \u001b[38;5;167;01mException\u001b[39;00m:\n\u001b[1;32m--> 162\u001b[0m     \u001b[38;5;28;01mraise\u001b[39;00m \u001b[38;5;167;01mImportError\u001b[39;00m(\n\u001b[0;32m    163\u001b[0m         \u001b[38;5;124mf\u001b[39m\u001b[38;5;124m\"\u001b[39m\u001b[38;5;132;01m{\u001b[39;00mname\u001b[38;5;132;01m}\u001b[39;00m\u001b[38;5;124m is not installed. Please install it before proceeding. \u001b[39m\u001b[38;5;132;01m{\u001b[39;00mURL\u001b[38;5;132;01m}\u001b[39;00m\u001b[38;5;124m\"\u001b[39m\n\u001b[0;32m    164\u001b[0m     )\n",
      "\u001b[1;31mImportError\u001b[0m: localtileserver is not installed. Please install it before proceeding. https://github.com/banesullivan/localtileserver"
     ]
    }
   ],
   "source": [
    "# Display the downloaded image on the map.\n",
    "m.layers[-1].visible = False  # turn off the basemap\n",
    "m.add_raster(image, layer_name=\"Image\")\n",
    "m"
   ]
  },
  {
   "cell_type": "code",
   "execution_count": null,
   "metadata": {},
   "outputs": [],
   "source": [
    "#Desired patch size for smaller images and step size.\n",
    "patch_size = 256\n",
    "step = 256\n",
    "\n",
    "all_img_patches = []\n",
    "for img in range(large_images.shape[0]):\n",
    "    large_image = large_images[img]\n",
    "    patches_img = patchify(large_image, (patch_size, patch_size), step=step)  #Step=256 for 256 patches means no overlap\n",
    "\n",
    "    for i in range(patches_img.shape[0]):\n",
    "        for j in range(patches_img.shape[1]):\n",
    "\n",
    "            single_patch_img = patches_img[i,j,:,:]\n",
    "            all_img_patches.append(single_patch_img)\n",
    "\n",
    "images = np.array(all_img_patches)\n",
    "\n",
    "#Let us do the same for masks\n",
    "all_mask_patches = []\n",
    "for img in range(large_masks.shape[0]):\n",
    "    large_mask = large_masks[img]\n",
    "    patches_mask = patchify(large_mask, (patch_size, patch_size), step=step)  #Step=256 for 256 patches means no overlap\n",
    "\n",
    "    for i in range(patches_mask.shape[0]):\n",
    "        for j in range(patches_mask.shape[1]):\n",
    "\n",
    "            single_patch_mask = patches_mask[i,j,:,:]\n",
    "            single_patch_mask = (single_patch_mask / 255.).astype(np.uint8)\n",
    "            all_mask_patches.append(single_patch_mask)\n",
    "\n",
    "masks = np.array(all_mask_patches)"
   ]
  }
 ],
 "metadata": {
  "kernelspec": {
   "display_name": "Python 3 (ipykernel)",
   "language": "python",
   "name": "python3"
  },
  "language_info": {
   "codemirror_mode": {
    "name": "ipython",
    "version": 3
   },
   "file_extension": ".py",
   "mimetype": "text/x-python",
   "name": "python",
   "nbconvert_exporter": "python",
   "pygments_lexer": "ipython3",
   "version": "3.11.6"
  }
 },
 "nbformat": 4,
 "nbformat_minor": 4
}
