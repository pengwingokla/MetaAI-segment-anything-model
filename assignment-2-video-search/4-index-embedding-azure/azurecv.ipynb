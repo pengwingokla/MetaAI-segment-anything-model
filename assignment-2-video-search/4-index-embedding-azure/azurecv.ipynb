{
 "cells": [
  {
   "cell_type": "code",
   "execution_count": 1,
   "metadata": {},
   "outputs": [
    {
     "name": "stdout",
     "output_type": "stream",
     "text": [
      "Requirement already satisfied: python-dotenv in c:\\users\\thaou\\anaconda3\\envs\\tf\\lib\\site-packages (1.0.1)\n",
      "Requirement already satisfied: psycopg2-binary in c:\\users\\thaou\\anaconda3\\envs\\tf\\lib\\site-packages (2.9.9)\n"
     ]
    }
   ],
   "source": [
    "!pip install python-dotenv\n",
    "!pip3 install psycopg2-binary"
   ]
  },
  {
   "cell_type": "code",
   "execution_count": 14,
   "metadata": {},
   "outputs": [],
   "source": [
    "import os\n",
    "from dotenv import load_dotenv\n",
    "from PIL import Image\n",
    "import matplotlib.pyplot as plt\n",
    "import glob\n",
    "import json\n",
    "import pathlib\n",
    "\n",
    "import glob\n",
    "import json\n",
    "import psycopg2\n",
    "from psycopg2 import pool\n",
    "import pandas as pd\n",
    "import csv\n",
    "from io import StringIO\n",
    "import math\n",
    "from azurecv import display_image_grid\n",
    "from azurecv import (image_embedding, text_embedding, get_cosine_similarity, \n",
    "                     get_image_embedding_multiprocessing, \n",
    "                     search_by_image, search_by_text)"
   ]
  },
  {
   "cell_type": "code",
   "execution_count": 17,
   "metadata": {},
   "outputs": [
    {
     "name": "stdout",
     "output_type": "stream",
     "text": [
      "Connection pool created successfully\n"
     ]
    }
   ],
   "source": [
    "# Load environment variables\n",
    "load_dotenv()\n",
    "host = os.getenv(\"POSTGRES_HOST\")\n",
    "dbname = os.getenv(\"POSTGRES_DB_NAME\")\n",
    "user = os.getenv(\"POSTGRES_USER\")\n",
    "password = os.getenv(\"POSTGRES_PASSWORD\")\n",
    "sslmode = \"require\"\n",
    "table_name = \"imagevectors\"\n",
    "\n",
    "# Build a connection string from the variables\n",
    "conn_string = \"host={0} user={1} dbname={2} password={3} sslmode={4}\".format(host, user, dbname, password, sslmode)\n",
    "\n",
    "postgreSQL_pool = psycopg2.pool.SimpleConnectionPool(1, 20, conn_string)\n",
    "if (postgreSQL_pool):\n",
    "    print(\"Connection pool created successfully\")\n",
    "\n",
    "# Get a connection from the connection pool\n",
    "conn = postgreSQL_pool.getconn()\n",
    "cursor = conn.cursor()"
   ]
  },
  {
   "cell_type": "markdown",
   "metadata": {},
   "source": []
  },
  {
   "cell_type": "code",
   "execution_count": 1,
   "metadata": {},
   "outputs": [],
   "source": [
    "import os\n",
    "import pandas as pd\n",
    "import numpy as np\n",
    "from PIL import Image\n",
    "import matplotlib.pyplot as plt\n",
    "import keras\n",
    "from keras import layers\n",
    "from tensorflow.keras.preprocessing import image"
   ]
  },
  {
   "cell_type": "code",
   "execution_count": 3,
   "metadata": {},
   "outputs": [
    {
     "name": "stdout",
     "output_type": "stream",
     "text": [
      "36/36 [==============================] - 6s 3ms/step\n",
      "(1150, 524288)\n"
     ]
    }
   ],
   "source": [
    "# GET EMBEDDINGS\n",
    "# Load image array data from .npz file\n",
    "img_arr = \"mnistlikedataset128x1.npz\"\n",
    "with np.load(img_arr) as data:\n",
    "    images = data['DataX'] # col name\n",
    "\n",
    "# Load ROI_data.csv file to get image IDs\n",
    "roi_data_file = \"ROI_data.csv\"\n",
    "roi_data = pd.read_csv(roi_data_file)\n",
    "image_ids = roi_data['frameID']\n",
    "\n",
    "# Load trained autoencoder model\n",
    "autoencoder_path = 'autoencoder_model.keras'\n",
    "autoencoder = keras.models.load_model(autoencoder_path)\n",
    "encoder = autoencoder.layers[1]  # Get encoder part\n",
    "\n",
    "# Get embeddings for all images\n",
    "embeddings = encoder.predict(images)\n",
    "\n",
    "# Flatten the embeddings\n",
    "flattened_embeddings = embeddings.reshape(embeddings.shape[0], -1)\n",
    "print(flattened_embeddings.shape)\n",
    "\n",
    "# Normalize the embeddings\n",
    "normalized_embeddings = flattened_embeddings / np.linalg.norm(flattened_embeddings, axis=1)[:, np.newaxis]"
   ]
  },
  {
   "cell_type": "code",
   "execution_count": 13,
   "metadata": {},
   "outputs": [
    {
     "name": "stdout",
     "output_type": "stream",
     "text": [
      "            roi_id                                          embedding\n",
      "0       001_1035_1  [-0.00050622167, -0.00016938934, -0.0005967635...\n",
      "1        001_115_2  [-0.00017361334, -6.870107e-05, -0.0002084288,...\n",
      "2        001_115_3  [-0.0003999786, -0.00012888889, -0.00047067588...\n",
      "3        001_115_4  [-0.0004040953, -0.0001317409, -0.0005031146, ...\n",
      "4       001_1150_5  [-0.00019049678, -6.841586e-05, -0.00022019882...\n",
      "...            ...                                                ...\n",
      "1145  003_920_1146  [-0.0002441998, -9.900378e-05, -0.00031622732,...\n",
      "1146  003_920_1147  [-0.0003110976, -0.000120183046, -0.0004847887...\n",
      "1147  003_920_1148  [-0.00072562334, -0.00041863634, -0.0006198458...\n",
      "1148  003_920_1149  [-0.0004953439, -0.00016005572, -0.00057034823...\n",
      "1149  003_920_1150  [-0.0003873687, -0.0002798766, -0.0008199389, ...\n",
      "\n",
      "[1150 rows x 2 columns]\n"
     ]
    }
   ],
   "source": [
    "# CREATE ROI_embedding.csv\n",
    "import pandas as pd\n",
    "\n",
    "# Read the CSV file\n",
    "# df = pd.read_csv('ROI_data.csv')\n",
    "# df['roi_id'] = df['frameID'].astype(str) + '_' + (df.index + 1).astype(str)\n",
    "# df.to_csv('roi_id.csv', index=False)\n",
    "\n",
    "data = []\n",
    "for index, row in df.iterrows():\n",
    "    # Extract the ROI ID from df\n",
    "    roi_id = row['roi_id']\n",
    "    embedding = normalized_embeddings[index]\n",
    "    data.append((roi_id, embedding))\n",
    "\n",
    "# Create a new DataFrame from the data list\n",
    "embedding_df = pd.DataFrame(data, columns=['roi_id', 'embedding'])\n",
    "embedding_df.to_csv('ROI_embedding.csv', index=False)\n",
    "# Print the new DataFrame\n",
    "print(embedding_df)"
   ]
  },
  {
   "cell_type": "code",
   "execution_count": 16,
   "metadata": {},
   "outputs": [
    {
     "data": {
      "text/html": [
       "<div>\n",
       "<style scoped>\n",
       "    .dataframe tbody tr th:only-of-type {\n",
       "        vertical-align: middle;\n",
       "    }\n",
       "\n",
       "    .dataframe tbody tr th {\n",
       "        vertical-align: top;\n",
       "    }\n",
       "\n",
       "    .dataframe thead th {\n",
       "        text-align: right;\n",
       "    }\n",
       "</style>\n",
       "<table border=\"1\" class=\"dataframe\">\n",
       "  <thead>\n",
       "    <tr style=\"text-align: right;\">\n",
       "      <th></th>\n",
       "      <th>roi_id</th>\n",
       "      <th>embedding</th>\n",
       "    </tr>\n",
       "  </thead>\n",
       "  <tbody>\n",
       "    <tr>\n",
       "      <th>0</th>\n",
       "      <td>001_1035_1</td>\n",
       "      <td>[-0.00050622167, -0.00016938934, -0.0005967635...</td>\n",
       "    </tr>\n",
       "    <tr>\n",
       "      <th>1</th>\n",
       "      <td>001_115_2</td>\n",
       "      <td>[-0.00017361334, -6.870107e-05, -0.0002084288,...</td>\n",
       "    </tr>\n",
       "    <tr>\n",
       "      <th>2</th>\n",
       "      <td>001_115_3</td>\n",
       "      <td>[-0.0003999786, -0.00012888889, -0.00047067588...</td>\n",
       "    </tr>\n",
       "    <tr>\n",
       "      <th>3</th>\n",
       "      <td>001_115_4</td>\n",
       "      <td>[-0.0004040953, -0.0001317409, -0.0005031146, ...</td>\n",
       "    </tr>\n",
       "    <tr>\n",
       "      <th>4</th>\n",
       "      <td>001_1150_5</td>\n",
       "      <td>[-0.00019049678, -6.841586e-05, -0.00022019882...</td>\n",
       "    </tr>\n",
       "    <tr>\n",
       "      <th>...</th>\n",
       "      <td>...</td>\n",
       "      <td>...</td>\n",
       "    </tr>\n",
       "    <tr>\n",
       "      <th>1145</th>\n",
       "      <td>003_920_1146</td>\n",
       "      <td>[-0.0002441998, -9.900378e-05, -0.00031622732,...</td>\n",
       "    </tr>\n",
       "    <tr>\n",
       "      <th>1146</th>\n",
       "      <td>003_920_1147</td>\n",
       "      <td>[-0.0003110976, -0.000120183046, -0.0004847887...</td>\n",
       "    </tr>\n",
       "    <tr>\n",
       "      <th>1147</th>\n",
       "      <td>003_920_1148</td>\n",
       "      <td>[-0.00072562334, -0.00041863634, -0.0006198458...</td>\n",
       "    </tr>\n",
       "    <tr>\n",
       "      <th>1148</th>\n",
       "      <td>003_920_1149</td>\n",
       "      <td>[-0.0004953439, -0.00016005572, -0.00057034823...</td>\n",
       "    </tr>\n",
       "    <tr>\n",
       "      <th>1149</th>\n",
       "      <td>003_920_1150</td>\n",
       "      <td>[-0.0003873687, -0.0002798766, -0.0008199389, ...</td>\n",
       "    </tr>\n",
       "  </tbody>\n",
       "</table>\n",
       "<p>1150 rows × 2 columns</p>\n",
       "</div>"
      ],
      "text/plain": [
       "            roi_id                                          embedding\n",
       "0       001_1035_1  [-0.00050622167, -0.00016938934, -0.0005967635...\n",
       "1        001_115_2  [-0.00017361334, -6.870107e-05, -0.0002084288,...\n",
       "2        001_115_3  [-0.0003999786, -0.00012888889, -0.00047067588...\n",
       "3        001_115_4  [-0.0004040953, -0.0001317409, -0.0005031146, ...\n",
       "4       001_1150_5  [-0.00019049678, -6.841586e-05, -0.00022019882...\n",
       "...            ...                                                ...\n",
       "1145  003_920_1146  [-0.0002441998, -9.900378e-05, -0.00031622732,...\n",
       "1146  003_920_1147  [-0.0003110976, -0.000120183046, -0.0004847887...\n",
       "1147  003_920_1148  [-0.00072562334, -0.00041863634, -0.0006198458...\n",
       "1148  003_920_1149  [-0.0004953439, -0.00016005572, -0.00057034823...\n",
       "1149  003_920_1150  [-0.0003873687, -0.0002798766, -0.0008199389, ...\n",
       "\n",
       "[1150 rows x 2 columns]"
      ]
     },
     "execution_count": 16,
     "metadata": {},
     "output_type": "execute_result"
    }
   ],
   "source": [
    "embedding_df"
   ]
  },
  {
   "cell_type": "code",
   "execution_count": 20,
   "metadata": {},
   "outputs": [
    {
     "ename": "InvalidParameterValue",
     "evalue": "dimensions for type vector cannot exceed 16000\nLINE 1: ...ARY TABLE tmp (roi_id TEXT PRIMARY KEY, embedding VECTOR(524...\n                                                             ^\n",
     "output_type": "error",
     "traceback": [
      "\u001b[1;31m---------------------------------------------------------------------------\u001b[0m",
      "\u001b[1;31mInvalidParameterValue\u001b[0m                     Traceback (most recent call last)",
      "Cell \u001b[1;32mIn[20], line 6\u001b[0m\n\u001b[0;32m      3\u001b[0m writer\u001b[38;5;241m.\u001b[39mwriterows(df\u001b[38;5;241m.\u001b[39mvalues)\n\u001b[0;32m      4\u001b[0m sio\u001b[38;5;241m.\u001b[39mseek(\u001b[38;5;241m0\u001b[39m)\n\u001b[1;32m----> 6\u001b[0m \u001b[43mcursor\u001b[49m\u001b[38;5;241;43m.\u001b[39;49m\u001b[43mexecute\u001b[49m\u001b[43m(\u001b[49m\u001b[38;5;124;43m\"\u001b[39;49m\u001b[38;5;124;43mCREATE TEMPORARY TABLE tmp (roi_id TEXT PRIMARY KEY, embedding VECTOR(524288)) ON COMMIT DROP;\u001b[39;49m\u001b[38;5;124;43m\"\u001b[39;49m\u001b[43m)\u001b[49m\n\u001b[0;32m      8\u001b[0m cursor\u001b[38;5;241m.\u001b[39mcopy_expert(\u001b[38;5;124m\"\u001b[39m\u001b[38;5;124mCOPY tmp FROM STDIN CSV\u001b[39m\u001b[38;5;124m\"\u001b[39m, sio)\n\u001b[0;32m     10\u001b[0m cursor\u001b[38;5;241m.\u001b[39mexecute(\u001b[38;5;124mf\u001b[39m\u001b[38;5;124m\"\"\"\u001b[39m\u001b[38;5;124mINSERT INTO \u001b[39m\u001b[38;5;132;01m{\u001b[39;00mtable_name\u001b[38;5;132;01m}\u001b[39;00m\u001b[38;5;124m (roi_id, embedding)\u001b[39m\n\u001b[0;32m     11\u001b[0m \u001b[38;5;124m                SELECT * FROM tmp\u001b[39m\n\u001b[0;32m     12\u001b[0m \u001b[38;5;124m                ON conflict (roi_id) DO NOTHING;\u001b[39m\u001b[38;5;124m\"\"\"\u001b[39m)\n",
      "\u001b[1;31mInvalidParameterValue\u001b[0m: dimensions for type vector cannot exceed 16000\nLINE 1: ...ARY TABLE tmp (roi_id TEXT PRIMARY KEY, embedding VECTOR(524...\n                                                             ^\n"
     ]
    }
   ],
   "source": [
    "sio = StringIO()\n",
    "writer = csv.writer(sio)\n",
    "writer.writerows(df.values)\n",
    "sio.seek(0)\n",
    "\n",
    "cursor.execute(\"CREATE TEMPORARY TABLE tmp (roi_id TEXT PRIMARY KEY, embedding VECTOR(524288)) ON COMMIT DROP;\")\n",
    "\n",
    "cursor.copy_expert(\"COPY tmp FROM STDIN CSV\", sio)\n",
    "\n",
    "cursor.execute(f\"\"\"INSERT INTO {table_name} (roi_id, embedding)\n",
    "                SELECT * FROM tmp\n",
    "                ON conflict (roi_id) DO NOTHING;\"\"\")\n",
    "\n",
    "conn.commit()"
   ]
  }
 ],
 "metadata": {
  "kernelspec": {
   "display_name": "tf",
   "language": "python",
   "name": "python3"
  },
  "language_info": {
   "codemirror_mode": {
    "name": "ipython",
    "version": 3
   },
   "file_extension": ".py",
   "mimetype": "text/x-python",
   "name": "python",
   "nbconvert_exporter": "python",
   "pygments_lexer": "ipython3",
   "version": "3.9.18"
  }
 },
 "nbformat": 4,
 "nbformat_minor": 2
}
